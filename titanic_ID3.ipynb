{
 "cells": [
  {
   "cell_type": "code",
   "execution_count": 9,
   "id": "95837702-6c7f-440f-8c77-4c259a7a91a8",
   "metadata": {
    "ExecuteTime": {
     "end_time": "2024-03-09T15:29:15.239053Z",
     "start_time": "2024-03-09T15:29:15.213889Z"
    }
   },
   "outputs": [],
   "source": [
    "# Generate ID3 decision tree\n",
    "# Don't use scikit\n",
    "import numpy as np\n",
    "import pandas as pd\n",
    "import networkx as nx"
   ]
  },
  {
   "cell_type": "code",
   "execution_count": 10,
   "id": "97aab7d8-e597-45e9-99f7-d5b49b870bde",
   "metadata": {
    "ExecuteTime": {
     "end_time": "2024-03-09T15:29:15.563671Z",
     "start_time": "2024-03-09T15:29:15.545983Z"
    }
   },
   "outputs": [],
   "source": [
    "## Import data\n",
    "FILE = 'titanic-homework.csv'\n",
    "columns_to_omit = [\n",
    "    'Name']  # Omit name for simplicity, we assume it doesn't affect the chances of survival (it musn't be the case! Our assumption)\n",
    "df = pd.read_csv(FILE, usecols=lambda column: column not in columns_to_omit)"
   ]
  },
  {
   "cell_type": "code",
   "outputs": [],
   "source": [
    "## PREPROCESS\n",
    "# Map age to one of 3 categories\n",
    "# Age[0,20] = young || Age[20,40] = middle || Age[40,99999] = old\n",
    "df['Age'] = df['Age'].map(lambda x: 'young' if 0 <= x <= 20 else ('middle' if 20 < x <= 40 else 'old'))"
   ],
   "metadata": {
    "collapsed": false,
    "ExecuteTime": {
     "end_time": "2024-03-09T15:29:15.976793Z",
     "start_time": "2024-03-09T15:29:15.962658Z"
    }
   },
   "id": "b997769f8bf1c2e4",
   "execution_count": 11
  },
  {
   "cell_type": "code",
   "execution_count": 13,
   "id": "feea6f54-c306-4cb4-9e79-896909081c47",
   "metadata": {
    "ExecuteTime": {
     "end_time": "2024-03-09T15:29:53.849462Z",
     "start_time": "2024-03-09T15:29:53.804861Z"
    }
   },
   "outputs": [
    {
     "name": "stdout",
     "output_type": "stream",
     "text": [
      "   Feature   Value     P                                              Cases  \\\n",
      "0   Pclass       1  0.21  [2, 4, 7, 12, 24, 28, 31, 32, 35, 36, 53, 55, ...   \n",
      "1   Pclass       2  0.19  [10, 16, 18, 21, 22, 34, 42, 44, 54, 57, 59, 6...   \n",
      "2   Pclass       3  0.60  [1, 3, 5, 6, 8, 9, 11, 13, 14, 15, 17, 19, 20,...   \n",
      "3      Sex    male  0.60  [1, 5, 6, 7, 8, 13, 14, 17, 18, 21, 22, 24, 27...   \n",
      "4      Sex  female  0.40  [2, 3, 4, 9, 10, 11, 12, 15, 16, 19, 20, 23, 2...   \n",
      "5      Age     old  0.21  [7, 12, 16, 20, 27, 30, 32, 33, 34, 36, 47, 49...   \n",
      "6      Age  middle  0.50  [1, 2, 3, 4, 5, 6, 9, 14, 19, 21, 22, 24, 26, ...   \n",
      "7      Age   young  0.29  [8, 10, 11, 13, 15, 17, 18, 23, 25, 28, 29, 39...   \n",
      "8    SibSp       0  0.59  [3, 5, 6, 7, 9, 12, 13, 15, 16, 18, 20, 21, 22...   \n",
      "9    SibSp       1  0.27  [1, 2, 4, 10, 11, 14, 19, 26, 32, 35, 36, 40, ...   \n",
      "10   SibSp       2  0.03                                       [39, 49, 70]   \n",
      "11   SibSp       3  0.06                            [8, 25, 28, 64, 86, 89]   \n",
      "12   SibSp       4  0.03                                       [17, 51, 69]   \n",
      "13   SibSp       5  0.02                                           [60, 72]   \n",
      "14   Parch       0  0.77  [1, 2, 3, 4, 5, 6, 7, 10, 12, 13, 15, 16, 18, ...   \n",
      "15   Parch       1  0.09                [8, 11, 17, 25, 51, 55, 66, 98, 99]   \n",
      "16   Parch       2  0.11        [9, 28, 44, 59, 60, 64, 69, 72, 79, 89, 94]   \n",
      "17   Parch       3  0.01                                               [87]   \n",
      "18   Parch       5  0.02                                           [14, 26]   \n",
      "\n",
      "     Entropy  \n",
      "0   0.529361  \n",
      "1   0.529361  \n",
      "2   0.634310  \n",
      "3   0.365924  \n",
      "4   0.914926  \n",
      "5   0.365924  \n",
      "6   0.701471  \n",
      "7   0.584239  \n",
      "8   0.811278  \n",
      "9   0.529361  \n",
      "10 -0.000000  \n",
      "11  0.141441  \n",
      "12  0.080793  \n",
      "13 -0.000000  \n",
      "14  0.868721  \n",
      "15  0.242292  \n",
      "16  0.327445  \n",
      "17 -0.000000  \n",
      "18  0.080793  \n"
     ]
    }
   ],
   "source": [
    "## Calculate entropy\n",
    "def calc_value_entropy(feature, value_key, df):\n",
    "    survived_sum_by_value = df.loc[df[feature] == value_key, 'Survived'].sum()\n",
    "    p_survived = survived_sum_by_value / df.shape[0]\n",
    "    p_no_survived = 1 - p_survived\n",
    "    entropy = (- p_no_survived * np.log2(p_no_survived, where=(p_no_survived != 0)) -\n",
    "               p_survived * np.log2(p_survived, where=(p_survived != 0)))\n",
    "    return entropy\n",
    "\n",
    "\n",
    "def conditional_entropy(feature, df):\n",
    "    return (df.loc[df['Feature'] == feature, 'P'] * df.loc[df['Feature'] == feature, 'Entropy']).sum()\n",
    "\n",
    "\n",
    "# Calculate whole dataset entropy\n",
    "whole_dataset_entropy = calc_value_entropy('Survived', 1, df)\n",
    "\n",
    "# Calc features_entropy_df DataFrame, save it to \"features_entropy.csv\"\n",
    "#   Feature   Value   P       Cases    Entropy\n",
    "# 0   Pclass    1     0.21  [2,4...     0.529361  \n",
    "# 1   Pclass    2     0.19  [10,16...   0.529361\n",
    "# ...  \n",
    "# 3   Sex      female 0.40  [2, 3, 4, 9, 10, 11, 12, 15, 16, 19, 20, 23, 2...   \n",
    "# 4   Sex      male   0.60  [1, 5, 6, 7, 8, 13, 14, 17, 18, 21, 22, 24, 27...   \n",
    "# ...\n",
    "features_entropy_list = []\n",
    "for column in df:\n",
    "\n",
    "    if column == 'Survived' or column == 'PassengerId':\n",
    "        continue\n",
    "\n",
    "    # Get all unique values from column\n",
    "    values_set = set(df[column].unique())\n",
    "\n",
    "    # calc P of each decision\n",
    "    #conditional_entropy = 0\n",
    "    for value in values_set:\n",
    "        value_p = df[column].eq(value).sum() / len(df)\n",
    "        cases = df.loc[df[column] == value, 'PassengerId'].to_list()\n",
    "        value_entropy = calc_value_entropy(column, value, df)\n",
    "        features_entropy_list.append([column, value, value_p, cases, value_entropy])\n",
    "\n",
    "features_entropy_df = pd.DataFrame(features_entropy_list, columns=['Feature', 'Value', 'P', 'Cases', 'Entropy'])\n",
    "features_entropy_df.to_csv(\"features_entropy.csv\", sep=',', index=False, encoding='utf-8')\n",
    "print(features_entropy_df)"
   ]
  },
  {
   "cell_type": "code",
   "outputs": [],
   "source": [
    "# Calc gain for each column to draw a decision tree in following block\n",
    "features_by_gains = []\n",
    "for df_column in df.columns:\n",
    "\n",
    "    # Skip 'Survived', already calc in whole_dataset_entropy\n",
    "    if df_column == 'Survived' or df_column == 'PassengerId':\n",
    "        continue\n",
    "\n",
    "    gain = whole_dataset_entropy - conditional_entropy(df_column, features_entropy_df)\n",
    "    features_by_gains.append((df_column, gain))\n",
    "\n",
    "features_by_gains.sort(key=lambda x: x[1], reverse=True)\n",
    "print(features_by_gains)"
   ],
   "metadata": {
    "collapsed": false
   },
   "id": "c35434a906330f55"
  },
  {
   "cell_type": "code",
   "outputs": [
    {
     "name": "stdout",
     "output_type": "stream",
     "text": [
      "[]\n"
     ]
    },
    {
     "data": {
      "text/plain": "<Figure size 640x480 with 1 Axes>",
      "image/png": "[encoded data removed]"
     },
     "metadata": {},
     "output_type": "display_data"
    }
   ],
   "source": [
    "## VISUALIZE\n",
    "# Print decision tree\n",
    "# 4) Draw decision tree (use package) with info how many\n",
    "# how many example in each leaf\n",
    "features_by_gains.sort(key=lambda x: x[1], reverse=True)\n",
    "print(features_by_gains)\n",
    "G = nx.Graph()\n",
    "G.add_node('Root')\n",
    "nx.draw(G, with_labels=True, font_weight='bold')"
   ],
   "metadata": {
    "collapsed": false,
    "ExecuteTime": {
     "end_time": "2024-03-09T14:45:41.298237Z",
     "start_time": "2024-03-09T14:45:40.915086Z"
    }
   },
   "id": "53396ea6de62e88",
   "execution_count": 109
  },
  {
   "cell_type": "code",
   "outputs": [],
   "source": [],
   "metadata": {
    "collapsed": false
   },
   "id": "34f068966b09baa9"
  }
 ],
 "metadata": {
  "kernelspec": {
   "display_name": "Python 3 (ipykernel)",
   "language": "python",
   "name": "python3"
  },
  "language_info": {
   "codemirror_mode": {
    "name": "ipython",
    "version": 3
   },
   "file_extension": ".py",
   "mimetype": "text/x-python",
   "name": "python",
   "nbconvert_exporter": "python",
   "pygments_lexer": "ipython3",
   "version": "3.12.2"
  }
 },
 "nbformat": 4,
 "nbformat_minor": 5
}
